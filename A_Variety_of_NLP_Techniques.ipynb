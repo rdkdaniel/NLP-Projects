{
  "nbformat": 4,
  "nbformat_minor": 0,
  "metadata": {
    "colab": {
      "provenance": [],
      "authorship_tag": "ABX9TyO5YUGAhUbJ13Z9h9ZsKhUh",
      "include_colab_link": true
    },
    "kernelspec": {
      "name": "python3",
      "display_name": "Python 3"
    },
    "language_info": {
      "name": "python"
    }
  },
  "cells": [
    {
      "cell_type": "markdown",
      "metadata": {
        "id": "view-in-github",
        "colab_type": "text"
      },
      "source": [
        "<a href=\"https://colab.research.google.com/github/rdkdaniel/NLP-Projects/blob/main/A_Variety_of_NLP_Techniques.ipynb\" target=\"_parent\"><img src=\"https://colab.research.google.com/assets/colab-badge.svg\" alt=\"Open In Colab\"/></a>"
      ]
    },
    {
      "cell_type": "markdown",
      "source": [
        "# **Rev the Engines**"
      ],
      "metadata": {
        "id": "CtN2tze1TJI8"
      }
    },
    {
      "cell_type": "markdown",
      "source": [
        "**Table of Content**\n",
        "\n",
        "1. Sentiment Analysis\n",
        "2. Named Entity Recognition (NER)\n",
        "3. Stemming\n",
        "4. Lemmatization\n",
        "5. Bag of Words (BoW)\n",
        "6. Term Frequency–Inverse Document Frequency (TF-IDF)\n",
        "7. Wordcloud\n",
        "\n",
        "\n",
        "\n",
        "\n"
      ],
      "metadata": {
        "id": "bWxjcSCUTO2v"
      }
    },
    {
      "cell_type": "markdown",
      "source": [
        "# **0.0 Prep**"
      ],
      "metadata": {
        "id": "CUMgrJjNTl2F"
      }
    },
    {
      "cell_type": "markdown",
      "source": [
        "## **0.1 Data**"
      ],
      "metadata": {
        "id": "UcYA0TeSTwlr"
      }
    },
    {
      "cell_type": "code",
      "execution_count": 1,
      "metadata": {
        "colab": {
          "base_uri": "https://localhost:8080/"
        },
        "id": "Pm96-bNpS6Pu",
        "outputId": "09dec40b-3cdd-4a59-d0cb-d49a0e71b1ae"
      },
      "outputs": [
        {
          "output_type": "stream",
          "name": "stdout",
          "text": [
            "Looking in indexes: https://pypi.org/simple, https://us-python.pkg.dev/colab-wheels/public/simple/\n",
            "Requirement already satisfied: kaggle in /usr/local/lib/python3.7/dist-packages (1.5.12)\n",
            "Requirement already satisfied: python-slugify in /usr/local/lib/python3.7/dist-packages (from kaggle) (6.1.2)\n",
            "Requirement already satisfied: certifi in /usr/local/lib/python3.7/dist-packages (from kaggle) (2022.9.24)\n",
            "Requirement already satisfied: urllib3 in /usr/local/lib/python3.7/dist-packages (from kaggle) (1.24.3)\n",
            "Requirement already satisfied: tqdm in /usr/local/lib/python3.7/dist-packages (from kaggle) (4.64.1)\n",
            "Requirement already satisfied: requests in /usr/local/lib/python3.7/dist-packages (from kaggle) (2.23.0)\n",
            "Requirement already satisfied: python-dateutil in /usr/local/lib/python3.7/dist-packages (from kaggle) (2.8.2)\n",
            "Requirement already satisfied: six>=1.10 in /usr/local/lib/python3.7/dist-packages (from kaggle) (1.15.0)\n",
            "Requirement already satisfied: text-unidecode>=1.3 in /usr/local/lib/python3.7/dist-packages (from python-slugify->kaggle) (1.3)\n",
            "Requirement already satisfied: chardet<4,>=3.0.2 in /usr/local/lib/python3.7/dist-packages (from requests->kaggle) (3.0.4)\n",
            "Requirement already satisfied: idna<3,>=2.5 in /usr/local/lib/python3.7/dist-packages (from requests->kaggle) (2.10)\n"
          ]
        }
      ],
      "source": [
        "#Connecting colab with kaggle to get the data\n",
        "#Install the Kaggle library\n",
        "!pip install kaggle"
      ]
    },
    {
      "cell_type": "code",
      "source": [
        "#Make a directory named “.kaggle”\n",
        "! mkdir ~/.kaggle"
      ],
      "metadata": {
        "id": "hqsxlQoyUSOy"
      },
      "execution_count": 2,
      "outputs": []
    },
    {
      "cell_type": "code",
      "source": [
        "#Copy the “kaggle.json” into this new directory\n",
        "! cp kaggle.json ~/.kaggle/"
      ],
      "metadata": {
        "id": "jXSwnJqPUU9V"
      },
      "execution_count": 3,
      "outputs": []
    },
    {
      "cell_type": "code",
      "source": [
        "#Allocate the required permission for this file\n",
        "! chmod 600 ~/.kaggle/kaggle.json"
      ],
      "metadata": {
        "id": "OwjJ6kZeUW9e"
      },
      "execution_count": 4,
      "outputs": []
    },
    {
      "cell_type": "code",
      "source": [
        "#Downloading dataset\n",
        "! kaggle datasets download ekrembayar/avatar-the-last-air-bender"
      ],
      "metadata": {
        "colab": {
          "base_uri": "https://localhost:8080/"
        },
        "id": "66KP4YiXUaQc",
        "outputId": "92776332-b635-41a0-cffa-1922d0b368a5"
      },
      "execution_count": 5,
      "outputs": [
        {
          "output_type": "stream",
          "name": "stdout",
          "text": [
            "Downloading avatar-the-last-air-bender.zip to /content\n",
            "\r  0% 0.00/0.99M [00:00<?, ?B/s]\n",
            "\r100% 0.99M/0.99M [00:00<00:00, 107MB/s]\n"
          ]
        }
      ]
    },
    {
      "cell_type": "markdown",
      "source": [
        "## **0.2 Unzipping the dataset**"
      ],
      "metadata": {
        "id": "ORuexm5lUk4n"
      }
    },
    {
      "cell_type": "code",
      "source": [
        "!unzip avatar-the-last-air-bender"
      ],
      "metadata": {
        "colab": {
          "base_uri": "https://localhost:8080/"
        },
        "id": "gXVoElLtUm7G",
        "outputId": "438e0631-782b-43a9-b8e4-8ad5c3b2d667"
      },
      "execution_count": 6,
      "outputs": [
        {
          "output_type": "stream",
          "name": "stdout",
          "text": [
            "Archive:  avatar-the-last-air-bender.zip\n",
            "  inflating: avatar.csv              \n",
            "  inflating: avatar_data.csv         \n",
            "  inflating: scenes.csv              \n",
            "  inflating: series_names.csv        \n"
          ]
        }
      ]
    },
    {
      "cell_type": "markdown",
      "source": [
        "# **1.0 Sentiment Analysis**"
      ],
      "metadata": {
        "id": "kB4we-QvU6Fv"
      }
    },
    {
      "cell_type": "markdown",
      "source": [
        "## **1.1 Libraries**"
      ],
      "metadata": {
        "id": "87AmJmoNVJQ2"
      }
    },
    {
      "cell_type": "code",
      "source": [
        "import pandas as pd\n",
        "import nltk\n",
        "from nltk.sentiment.vader import SentimentIntensityAnalyzer"
      ],
      "metadata": {
        "id": "Y--teyinVCcd"
      },
      "execution_count": 7,
      "outputs": []
    },
    {
      "cell_type": "markdown",
      "source": [
        "## **1.2 Reading and Wragling data**"
      ],
      "metadata": {
        "id": "0QuKu9sUVT0a"
      }
    },
    {
      "cell_type": "code",
      "source": [
        "df_avatar = pd.read_csv('avatar.csv', encoding = 'ISO-8859-1', engine='python')\n",
        "df_avatar_lines = df_avatar.groupby('character').count()\n",
        "df_avatar_lines = df_avatar_lines.sort_values(by=['character_words'], ascending=False)[:10]\n",
        "top_character_names = df_avatar_lines.index.values"
      ],
      "metadata": {
        "id": "_XfgiEhrVXCx"
      },
      "execution_count": 13,
      "outputs": []
    },
    {
      "cell_type": "markdown",
      "source": [
        "*   *Below error was observed in the code above. Fix was specify the exact type of encoding to python 3.*\n",
        "*   *i.e. \"encoding = 'ISO-8859-1'\"*\n",
        "\n",
        "![encoding error.PNG](data:image/png;base64,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)\n",
        "\n"
      ],
      "metadata": {
        "id": "hiVA2l8vqU9A"
      }
    },
    {
      "cell_type": "markdown",
      "source": [
        "## **1.3 Filtering oOut Non-top Characters**"
      ],
      "metadata": {
        "id": "jX0YWmvYWB0x"
      }
    },
    {
      "cell_type": "code",
      "source": [
        "df_character_sentiment = df_avatar[df_avatar['character'].isin(top_character_names)]\n",
        "df_character_sentiment = df_character_sentiment[['character', 'character_words']]"
      ],
      "metadata": {
        "id": "PVcifVcxWIcJ"
      },
      "execution_count": 14,
      "outputs": []
    },
    {
      "cell_type": "markdown",
      "source": [
        "## **1.4 Calculating Sentiment Score**"
      ],
      "metadata": {
        "id": "vakI52gAWLGz"
      }
    },
    {
      "cell_type": "code",
      "source": [
        "import nltk\n",
        "nltk.download('vader_lexicon')"
      ],
      "metadata": {
        "colab": {
          "base_uri": "https://localhost:8080/"
        },
        "id": "pH2PVWsErWHJ",
        "outputId": "07708f1d-0520-4aa2-b4c8-3f5983be38c6"
      },
      "execution_count": 16,
      "outputs": [
        {
          "output_type": "stream",
          "name": "stderr",
          "text": [
            "[nltk_data] Downloading package vader_lexicon to /root/nltk_data...\n"
          ]
        },
        {
          "output_type": "execute_result",
          "data": {
            "text/plain": [
              "True"
            ]
          },
          "metadata": {},
          "execution_count": 16
        }
      ]
    },
    {
      "cell_type": "code",
      "source": [
        "sid = SentimentIntensityAnalyzer()\n",
        "df_character_sentiment.reset_index(inplace=True, drop=True)\n",
        "df_character_sentiment[['neg', 'neu', 'pos', 'compound']] = df_character_sentiment['character_words'].apply(sid.polarity_scores).apply(pd.Series)\n",
        "df_character_sentiment"
      ],
      "metadata": {
        "colab": {
          "base_uri": "https://localhost:8080/",
          "height": 424
        },
        "id": "TpAoBadvWQOp",
        "outputId": "dae66706-a4a8-4d64-8848-55fcd06e8378"
      },
      "execution_count": 17,
      "outputs": [
        {
          "output_type": "execute_result",
          "data": {
            "text/plain": [
              "     character                                    character_words    neg  \\\n",
              "0       Katara  Water. Earth. Fire. Air. My grandmother used t...  0.196   \n",
              "1        Sokka  It's not getting away from me this time.  Watc...  0.000   \n",
              "2       Katara                                       Sokka, look!  0.000   \n",
              "3        Sokka  Sshh! Katara, you're going to scare it away.  ...  0.200   \n",
              "4       Katara                          But, Sokka! I caught one!  0.000   \n",
              "...        ...                                                ...    ...   \n",
              "7053      Zuko  At least you don't look like a boar-q-pine! My...  0.183   \n",
              "7054      Suki              And why did you paint me firebending?  0.000   \n",
              "7055     Sokka  I thought it looked more exciting that way.  O...  0.000   \n",
              "7056      Iroh  Hey, my belly's not that big anymore. I've rea...  0.000   \n",
              "7057      Toph                 Well I think you all look perfect!  0.000   \n",
              "\n",
              "        neu    pos  compound  \n",
              "0     0.735  0.069   -0.9718  \n",
              "1     1.000  0.000    0.0000  \n",
              "2     1.000  0.000    0.0000  \n",
              "3     0.800  0.000   -0.5411  \n",
              "4     1.000  0.000    0.0000  \n",
              "...     ...    ...       ...  \n",
              "7053  0.817  0.000   -0.4007  \n",
              "7054  1.000  0.000    0.0000  \n",
              "7055  0.687  0.313    0.7501  \n",
              "7056  1.000  0.000    0.0000  \n",
              "7057  0.396  0.604    0.7263  \n",
              "\n",
              "[7058 rows x 6 columns]"
            ],
            "text/html": [
              "\n",
              "  <div id=\"df-e2c2d6b5-7fe3-4c72-912a-2abc69e8c631\">\n",
              "    <div class=\"colab-df-container\">\n",
              "      <div>\n",
              "<style scoped>\n",
              "    .dataframe tbody tr th:only-of-type {\n",
              "        vertical-align: middle;\n",
              "    }\n",
              "\n",
              "    .dataframe tbody tr th {\n",
              "        vertical-align: top;\n",
              "    }\n",
              "\n",
              "    .dataframe thead th {\n",
              "        text-align: right;\n",
              "    }\n",
              "</style>\n",
              "<table border=\"1\" class=\"dataframe\">\n",
              "  <thead>\n",
              "    <tr style=\"text-align: right;\">\n",
              "      <th></th>\n",
              "      <th>character</th>\n",
              "      <th>character_words</th>\n",
              "      <th>neg</th>\n",
              "      <th>neu</th>\n",
              "      <th>pos</th>\n",
              "      <th>compound</th>\n",
              "    </tr>\n",
              "  </thead>\n",
              "  <tbody>\n",
              "    <tr>\n",
              "      <th>0</th>\n",
              "      <td>Katara</td>\n",
              "      <td>Water. Earth. Fire. Air. My grandmother used t...</td>\n",
              "      <td>0.196</td>\n",
              "      <td>0.735</td>\n",
              "      <td>0.069</td>\n",
              "      <td>-0.9718</td>\n",
              "    </tr>\n",
              "    <tr>\n",
              "      <th>1</th>\n",
              "      <td>Sokka</td>\n",
              "      <td>It's not getting away from me this time.  Watc...</td>\n",
              "      <td>0.000</td>\n",
              "      <td>1.000</td>\n",
              "      <td>0.000</td>\n",
              "      <td>0.0000</td>\n",
              "    </tr>\n",
              "    <tr>\n",
              "      <th>2</th>\n",
              "      <td>Katara</td>\n",
              "      <td>Sokka, look!</td>\n",
              "      <td>0.000</td>\n",
              "      <td>1.000</td>\n",
              "      <td>0.000</td>\n",
              "      <td>0.0000</td>\n",
              "    </tr>\n",
              "    <tr>\n",
              "      <th>3</th>\n",
              "      <td>Sokka</td>\n",
              "      <td>Sshh! Katara, you're going to scare it away.  ...</td>\n",
              "      <td>0.200</td>\n",
              "      <td>0.800</td>\n",
              "      <td>0.000</td>\n",
              "      <td>-0.5411</td>\n",
              "    </tr>\n",
              "    <tr>\n",
              "      <th>4</th>\n",
              "      <td>Katara</td>\n",
              "      <td>But, Sokka! I caught one!</td>\n",
              "      <td>0.000</td>\n",
              "      <td>1.000</td>\n",
              "      <td>0.000</td>\n",
              "      <td>0.0000</td>\n",
              "    </tr>\n",
              "    <tr>\n",
              "      <th>...</th>\n",
              "      <td>...</td>\n",
              "      <td>...</td>\n",
              "      <td>...</td>\n",
              "      <td>...</td>\n",
              "      <td>...</td>\n",
              "      <td>...</td>\n",
              "    </tr>\n",
              "    <tr>\n",
              "      <th>7053</th>\n",
              "      <td>Zuko</td>\n",
              "      <td>At least you don't look like a boar-q-pine! My...</td>\n",
              "      <td>0.183</td>\n",
              "      <td>0.817</td>\n",
              "      <td>0.000</td>\n",
              "      <td>-0.4007</td>\n",
              "    </tr>\n",
              "    <tr>\n",
              "      <th>7054</th>\n",
              "      <td>Suki</td>\n",
              "      <td>And why did you paint me firebending?</td>\n",
              "      <td>0.000</td>\n",
              "      <td>1.000</td>\n",
              "      <td>0.000</td>\n",
              "      <td>0.0000</td>\n",
              "    </tr>\n",
              "    <tr>\n",
              "      <th>7055</th>\n",
              "      <td>Sokka</td>\n",
              "      <td>I thought it looked more exciting that way.  O...</td>\n",
              "      <td>0.000</td>\n",
              "      <td>0.687</td>\n",
              "      <td>0.313</td>\n",
              "      <td>0.7501</td>\n",
              "    </tr>\n",
              "    <tr>\n",
              "      <th>7056</th>\n",
              "      <td>Iroh</td>\n",
              "      <td>Hey, my belly's not that big anymore. I've rea...</td>\n",
              "      <td>0.000</td>\n",
              "      <td>1.000</td>\n",
              "      <td>0.000</td>\n",
              "      <td>0.0000</td>\n",
              "    </tr>\n",
              "    <tr>\n",
              "      <th>7057</th>\n",
              "      <td>Toph</td>\n",
              "      <td>Well I think you all look perfect!</td>\n",
              "      <td>0.000</td>\n",
              "      <td>0.396</td>\n",
              "      <td>0.604</td>\n",
              "      <td>0.7263</td>\n",
              "    </tr>\n",
              "  </tbody>\n",
              "</table>\n",
              "<p>7058 rows × 6 columns</p>\n",
              "</div>\n",
              "      <button class=\"colab-df-convert\" onclick=\"convertToInteractive('df-e2c2d6b5-7fe3-4c72-912a-2abc69e8c631')\"\n",
              "              title=\"Convert this dataframe to an interactive table.\"\n",
              "              style=\"display:none;\">\n",
              "        \n",
              "  <svg xmlns=\"http://www.w3.org/2000/svg\" height=\"24px\"viewBox=\"0 0 24 24\"\n",
              "       width=\"24px\">\n",
              "    <path d=\"M0 0h24v24H0V0z\" fill=\"none\"/>\n",
              "    <path d=\"M18.56 5.44l.94 2.06.94-2.06 2.06-.94-2.06-.94-.94-2.06-.94 2.06-2.06.94zm-11 1L8.5 8.5l.94-2.06 2.06-.94-2.06-.94L8.5 2.5l-.94 2.06-2.06.94zm10 10l.94 2.06.94-2.06 2.06-.94-2.06-.94-.94-2.06-.94 2.06-2.06.94z\"/><path d=\"M17.41 7.96l-1.37-1.37c-.4-.4-.92-.59-1.43-.59-.52 0-1.04.2-1.43.59L10.3 9.45l-7.72 7.72c-.78.78-.78 2.05 0 2.83L4 21.41c.39.39.9.59 1.41.59.51 0 1.02-.2 1.41-.59l7.78-7.78 2.81-2.81c.8-.78.8-2.07 0-2.86zM5.41 20L4 18.59l7.72-7.72 1.47 1.35L5.41 20z\"/>\n",
              "  </svg>\n",
              "      </button>\n",
              "      \n",
              "  <style>\n",
              "    .colab-df-container {\n",
              "      display:flex;\n",
              "      flex-wrap:wrap;\n",
              "      gap: 12px;\n",
              "    }\n",
              "\n",
              "    .colab-df-convert {\n",
              "      background-color: #E8F0FE;\n",
              "      border: none;\n",
              "      border-radius: 50%;\n",
              "      cursor: pointer;\n",
              "      display: none;\n",
              "      fill: #1967D2;\n",
              "      height: 32px;\n",
              "      padding: 0 0 0 0;\n",
              "      width: 32px;\n",
              "    }\n",
              "\n",
              "    .colab-df-convert:hover {\n",
              "      background-color: #E2EBFA;\n",
              "      box-shadow: 0px 1px 2px rgba(60, 64, 67, 0.3), 0px 1px 3px 1px rgba(60, 64, 67, 0.15);\n",
              "      fill: #174EA6;\n",
              "    }\n",
              "\n",
              "    [theme=dark] .colab-df-convert {\n",
              "      background-color: #3B4455;\n",
              "      fill: #D2E3FC;\n",
              "    }\n",
              "\n",
              "    [theme=dark] .colab-df-convert:hover {\n",
              "      background-color: #434B5C;\n",
              "      box-shadow: 0px 1px 3px 1px rgba(0, 0, 0, 0.15);\n",
              "      filter: drop-shadow(0px 1px 2px rgba(0, 0, 0, 0.3));\n",
              "      fill: #FFFFFF;\n",
              "    }\n",
              "  </style>\n",
              "\n",
              "      <script>\n",
              "        const buttonEl =\n",
              "          document.querySelector('#df-e2c2d6b5-7fe3-4c72-912a-2abc69e8c631 button.colab-df-convert');\n",
              "        buttonEl.style.display =\n",
              "          google.colab.kernel.accessAllowed ? 'block' : 'none';\n",
              "\n",
              "        async function convertToInteractive(key) {\n",
              "          const element = document.querySelector('#df-e2c2d6b5-7fe3-4c72-912a-2abc69e8c631');\n",
              "          const dataTable =\n",
              "            await google.colab.kernel.invokeFunction('convertToInteractive',\n",
              "                                                     [key], {});\n",
              "          if (!dataTable) return;\n",
              "\n",
              "          const docLinkHtml = 'Like what you see? Visit the ' +\n",
              "            '<a target=\"_blank\" href=https://colab.research.google.com/notebooks/data_table.ipynb>data table notebook</a>'\n",
              "            + ' to learn more about interactive tables.';\n",
              "          element.innerHTML = '';\n",
              "          dataTable['output_type'] = 'display_data';\n",
              "          await google.colab.output.renderOutput(dataTable, element);\n",
              "          const docLink = document.createElement('div');\n",
              "          docLink.innerHTML = docLinkHtml;\n",
              "          element.appendChild(docLink);\n",
              "        }\n",
              "      </script>\n",
              "    </div>\n",
              "  </div>\n",
              "  "
            ]
          },
          "metadata": {},
          "execution_count": 17
        }
      ]
    },
    {
      "cell_type": "markdown",
      "source": [
        "\n",
        "\n",
        "*  *Below error was observed in the code above. Fix was to get the \"vader.lexicon\" dependency from ntlk.*\n",
        "* i.e. * nltk.download('vader_lexicon')*\n",
        "\n",
        "![vader error.PNG](data:image/png;base64,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)\n"
      ],
      "metadata": {
        "id": "DjhOSX7Frdsq"
      }
    },
    {
      "cell_type": "markdown",
      "source": [
        "# **2.0 Named Entity Recognition (NER)**"
      ],
      "metadata": {
        "id": "4XqPO58bWUyP"
      }
    },
    {
      "cell_type": "markdown",
      "source": [
        "## **2.1 Libraries**"
      ],
      "metadata": {
        "id": "0DUroYkbWhxH"
      }
    },
    {
      "cell_type": "code",
      "source": [
        "import spacy"
      ],
      "metadata": {
        "id": "AIOiaDKvWXad"
      },
      "execution_count": 18,
      "outputs": []
    },
    {
      "cell_type": "markdown",
      "source": [
        "## **2.2 Applying NLP**"
      ],
      "metadata": {
        "id": "WALq-0BTWrfR"
      }
    },
    {
      "cell_type": "code",
      "source": [
        "nlp = spacy.load(\"en_core_web_sm\")\n",
        "doc = nlp(\"Biden invites Ukrainian president to White House this summer\")\n",
        "print([(X.text, X.label_) for X in doc.ents])"
      ],
      "metadata": {
        "colab": {
          "base_uri": "https://localhost:8080/"
        },
        "id": "PrE5SKYlWxGu",
        "outputId": "a59593bc-f7e5-44b8-d8a2-71bf0124be74"
      },
      "execution_count": 20,
      "outputs": [
        {
          "output_type": "stream",
          "name": "stdout",
          "text": [
            "[('Biden', 'PERSON'), ('Ukrainian', 'NORP'), ('White House', 'ORG'), ('this summer', 'DATE')]\n"
          ]
        }
      ]
    },
    {
      "cell_type": "markdown",
      "source": [
        "# **3.0 Stemming & Lemmatization**"
      ],
      "metadata": {
        "id": "769Mr8klWz8N"
      }
    },
    {
      "cell_type": "markdown",
      "source": [
        "## **3.1 Libraries**"
      ],
      "metadata": {
        "id": "mfn8Kb_zW57P"
      }
    },
    {
      "cell_type": "code",
      "source": [
        "from nltk.stem import PorterStemmer\n",
        "from nltk.stem import LancasterStemmer"
      ],
      "metadata": {
        "id": "qkqWl50KW8Xj"
      },
      "execution_count": 21,
      "outputs": []
    },
    {
      "cell_type": "code",
      "source": [
        "# PorterStemmer\n",
        "porter = PorterStemmer()\n",
        "# LancasterStemmer\n",
        "lancaster = LancasterStemmer()\n",
        "print(porter.stem(\"friendship\"))\n",
        "print(lancaster.stem(\"friendship\"))"
      ],
      "metadata": {
        "colab": {
          "base_uri": "https://localhost:8080/"
        },
        "id": "uRpy8vm3XAdx",
        "outputId": "7c1f773f-874d-4bd0-8339-8d80cc1bb00f"
      },
      "execution_count": 23,
      "outputs": [
        {
          "output_type": "stream",
          "name": "stdout",
          "text": [
            "friendship\n",
            "friend\n"
          ]
        }
      ]
    },
    {
      "cell_type": "markdown",
      "source": [
        "## **3.1.0 More Libraries**"
      ],
      "metadata": {
        "id": "sw_GiDQUXEON"
      }
    },
    {
      "cell_type": "code",
      "source": [
        "from nltk import WordNetLemmatizer"
      ],
      "metadata": {
        "id": "9TK_FPx-XHxN"
      },
      "execution_count": 24,
      "outputs": []
    },
    {
      "cell_type": "code",
      "source": [
        "nltk.download('wordnet')"
      ],
      "metadata": {
        "colab": {
          "base_uri": "https://localhost:8080/"
        },
        "id": "MPzcPQuitJkX",
        "outputId": "24c18551-7884-46ba-b53e-f877a7b8d49b"
      },
      "execution_count": 27,
      "outputs": [
        {
          "output_type": "stream",
          "name": "stderr",
          "text": [
            "[nltk_data] Downloading package wordnet to /root/nltk_data...\n"
          ]
        },
        {
          "output_type": "execute_result",
          "data": {
            "text/plain": [
              "True"
            ]
          },
          "metadata": {},
          "execution_count": 27
        }
      ]
    },
    {
      "cell_type": "code",
      "source": [
        "nltk.download('omw-1.4')"
      ],
      "metadata": {
        "colab": {
          "base_uri": "https://localhost:8080/"
        },
        "id": "tzW1oXwEtaU2",
        "outputId": "55b4c617-d577-49b4-9b4a-e33c2f0257e0"
      },
      "execution_count": 29,
      "outputs": [
        {
          "output_type": "stream",
          "name": "stderr",
          "text": [
            "[nltk_data] Downloading package omw-1.4 to /root/nltk_data...\n"
          ]
        },
        {
          "output_type": "execute_result",
          "data": {
            "text/plain": [
              "True"
            ]
          },
          "metadata": {},
          "execution_count": 29
        }
      ]
    },
    {
      "cell_type": "code",
      "source": [
        "lemmatizer = WordNetLemmatizer()\n",
        "words = ['articles', 'friendship', 'studies', 'phones']\n",
        "for word in words:\n",
        "    print(lemmatizer.lemmatize(word))"
      ],
      "metadata": {
        "colab": {
          "base_uri": "https://localhost:8080/"
        },
        "id": "C0j9G6vqXKSm",
        "outputId": "2fa13051-b873-42b6-edec-6960fb38e756"
      },
      "execution_count": 30,
      "outputs": [
        {
          "output_type": "stream",
          "name": "stdout",
          "text": [
            "article\n",
            "friendship\n",
            "study\n",
            "phone\n"
          ]
        }
      ]
    },
    {
      "cell_type": "markdown",
      "source": [
        "\n",
        "\n",
        "*  *Below error was observed in the code above. Fix was to get the \"wordnet\" dependency from ntlk.*\n",
        "*   i.e. * \"nltk.download('wordnet')\"*\n",
        "*   *Same applied for \"omw-1.4\"*\n",
        "*   List item\n",
        "\n",
        "\n",
        "\n",
        "![wordnet error.PNG](data:image/png;base64,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)\n",
        "\n"
      ],
      "metadata": {
        "id": "teSrKLuzsyH3"
      }
    },
    {
      "cell_type": "markdown",
      "source": [
        "## **3.1.1 More Libararies**"
      ],
      "metadata": {
        "id": "a8mvGBzoXUz0"
      }
    },
    {
      "cell_type": "code",
      "source": [
        "from nltk import WordNetLemmatizer\n",
        "lemmatizer = WordNetLemmatizer()"
      ],
      "metadata": {
        "id": "N_0HrSvQXZla"
      },
      "execution_count": 32,
      "outputs": []
    },
    {
      "cell_type": "code",
      "source": [
        "words = ['be', 'is', 'are', 'were', 'was']\n",
        "for word in words:\n",
        "    print(lemmatizer.lemmatize(word, pos='v'))"
      ],
      "metadata": {
        "colab": {
          "base_uri": "https://localhost:8080/"
        },
        "id": "bg8vcTrRXbsn",
        "outputId": "5dfe1877-c4c8-4fb4-dced-468f286035f7"
      },
      "execution_count": 34,
      "outputs": [
        {
          "output_type": "stream",
          "name": "stdout",
          "text": [
            "be\n",
            "be\n",
            "be\n",
            "be\n",
            "be\n"
          ]
        }
      ]
    },
    {
      "cell_type": "markdown",
      "source": [
        "# **4.0 Bag of Words**"
      ],
      "metadata": {
        "id": "3b_h9W5YXeoK"
      }
    },
    {
      "cell_type": "code",
      "source": [
        "#https://towardsdatascience.com/7-nlp-techniques-you-can-easily-implement-with-python-dc0ade1a53c2"
      ],
      "metadata": {
        "id": "0AXDvr_XXm2S"
      },
      "execution_count": null,
      "outputs": []
    },
    {
      "cell_type": "markdown",
      "source": [
        "## **4.1 Libraries**"
      ],
      "metadata": {
        "id": "nqm1cD-dwpmg"
      }
    },
    {
      "cell_type": "code",
      "source": [
        "import pandas as pd\n",
        "from sklearn.feature_extraction.text import CountVectorizer"
      ],
      "metadata": {
        "id": "lmevSkGqwsQm"
      },
      "execution_count": 35,
      "outputs": []
    },
    {
      "cell_type": "markdown",
      "source": [
        "## **4.2 Implementation**"
      ],
      "metadata": {
        "id": "8Jpm8DBkwxgq"
      }
    },
    {
      "cell_type": "code",
      "source": [
        "text = [\"I love writing code in Python. I love Python code\",\n",
        "        \"I hate writing code in Java. I hate Java code\"]\n",
        "df = pd.DataFrame({'review': ['review1', 'review2'], 'text':text})\n",
        "cv = CountVectorizer(stop_words='english')\n",
        "cv_matrix = cv.fit_transform(df['text'])\n",
        "df_dtm = pd.DataFrame(cv_matrix.toarray(),\n",
        "                      index=df['review'].values,\n",
        "                      columns=cv.get_feature_names())\n",
        "df_dtm"
      ],
      "metadata": {
        "colab": {
          "base_uri": "https://localhost:8080/",
          "height": 168
        },
        "id": "2dGJtfTvwugk",
        "outputId": "9e7ef1c7-46f9-47a9-a8f1-58e7f1fa3ae1"
      },
      "execution_count": 38,
      "outputs": [
        {
          "output_type": "stream",
          "name": "stderr",
          "text": [
            "/usr/local/lib/python3.7/dist-packages/sklearn/utils/deprecation.py:87: FutureWarning: Function get_feature_names is deprecated; get_feature_names is deprecated in 1.0 and will be removed in 1.2. Please use get_feature_names_out instead.\n",
            "  warnings.warn(msg, category=FutureWarning)\n"
          ]
        },
        {
          "output_type": "execute_result",
          "data": {
            "text/plain": [
              "         code  hate  java  love  python  writing\n",
              "review1     2     0     0     2       2        1\n",
              "review2     2     2     2     0       0        1"
            ],
            "text/html": [
              "\n",
              "  <div id=\"df-e2c96996-7057-4b3f-ba59-d36e78af1cde\">\n",
              "    <div class=\"colab-df-container\">\n",
              "      <div>\n",
              "<style scoped>\n",
              "    .dataframe tbody tr th:only-of-type {\n",
              "        vertical-align: middle;\n",
              "    }\n",
              "\n",
              "    .dataframe tbody tr th {\n",
              "        vertical-align: top;\n",
              "    }\n",
              "\n",
              "    .dataframe thead th {\n",
              "        text-align: right;\n",
              "    }\n",
              "</style>\n",
              "<table border=\"1\" class=\"dataframe\">\n",
              "  <thead>\n",
              "    <tr style=\"text-align: right;\">\n",
              "      <th></th>\n",
              "      <th>code</th>\n",
              "      <th>hate</th>\n",
              "      <th>java</th>\n",
              "      <th>love</th>\n",
              "      <th>python</th>\n",
              "      <th>writing</th>\n",
              "    </tr>\n",
              "  </thead>\n",
              "  <tbody>\n",
              "    <tr>\n",
              "      <th>review1</th>\n",
              "      <td>2</td>\n",
              "      <td>0</td>\n",
              "      <td>0</td>\n",
              "      <td>2</td>\n",
              "      <td>2</td>\n",
              "      <td>1</td>\n",
              "    </tr>\n",
              "    <tr>\n",
              "      <th>review2</th>\n",
              "      <td>2</td>\n",
              "      <td>2</td>\n",
              "      <td>2</td>\n",
              "      <td>0</td>\n",
              "      <td>0</td>\n",
              "      <td>1</td>\n",
              "    </tr>\n",
              "  </tbody>\n",
              "</table>\n",
              "</div>\n",
              "      <button class=\"colab-df-convert\" onclick=\"convertToInteractive('df-e2c96996-7057-4b3f-ba59-d36e78af1cde')\"\n",
              "              title=\"Convert this dataframe to an interactive table.\"\n",
              "              style=\"display:none;\">\n",
              "        \n",
              "  <svg xmlns=\"http://www.w3.org/2000/svg\" height=\"24px\"viewBox=\"0 0 24 24\"\n",
              "       width=\"24px\">\n",
              "    <path d=\"M0 0h24v24H0V0z\" fill=\"none\"/>\n",
              "    <path d=\"M18.56 5.44l.94 2.06.94-2.06 2.06-.94-2.06-.94-.94-2.06-.94 2.06-2.06.94zm-11 1L8.5 8.5l.94-2.06 2.06-.94-2.06-.94L8.5 2.5l-.94 2.06-2.06.94zm10 10l.94 2.06.94-2.06 2.06-.94-2.06-.94-.94-2.06-.94 2.06-2.06.94z\"/><path d=\"M17.41 7.96l-1.37-1.37c-.4-.4-.92-.59-1.43-.59-.52 0-1.04.2-1.43.59L10.3 9.45l-7.72 7.72c-.78.78-.78 2.05 0 2.83L4 21.41c.39.39.9.59 1.41.59.51 0 1.02-.2 1.41-.59l7.78-7.78 2.81-2.81c.8-.78.8-2.07 0-2.86zM5.41 20L4 18.59l7.72-7.72 1.47 1.35L5.41 20z\"/>\n",
              "  </svg>\n",
              "      </button>\n",
              "      \n",
              "  <style>\n",
              "    .colab-df-container {\n",
              "      display:flex;\n",
              "      flex-wrap:wrap;\n",
              "      gap: 12px;\n",
              "    }\n",
              "\n",
              "    .colab-df-convert {\n",
              "      background-color: #E8F0FE;\n",
              "      border: none;\n",
              "      border-radius: 50%;\n",
              "      cursor: pointer;\n",
              "      display: none;\n",
              "      fill: #1967D2;\n",
              "      height: 32px;\n",
              "      padding: 0 0 0 0;\n",
              "      width: 32px;\n",
              "    }\n",
              "\n",
              "    .colab-df-convert:hover {\n",
              "      background-color: #E2EBFA;\n",
              "      box-shadow: 0px 1px 2px rgba(60, 64, 67, 0.3), 0px 1px 3px 1px rgba(60, 64, 67, 0.15);\n",
              "      fill: #174EA6;\n",
              "    }\n",
              "\n",
              "    [theme=dark] .colab-df-convert {\n",
              "      background-color: #3B4455;\n",
              "      fill: #D2E3FC;\n",
              "    }\n",
              "\n",
              "    [theme=dark] .colab-df-convert:hover {\n",
              "      background-color: #434B5C;\n",
              "      box-shadow: 0px 1px 3px 1px rgba(0, 0, 0, 0.15);\n",
              "      filter: drop-shadow(0px 1px 2px rgba(0, 0, 0, 0.3));\n",
              "      fill: #FFFFFF;\n",
              "    }\n",
              "  </style>\n",
              "\n",
              "      <script>\n",
              "        const buttonEl =\n",
              "          document.querySelector('#df-e2c96996-7057-4b3f-ba59-d36e78af1cde button.colab-df-convert');\n",
              "        buttonEl.style.display =\n",
              "          google.colab.kernel.accessAllowed ? 'block' : 'none';\n",
              "\n",
              "        async function convertToInteractive(key) {\n",
              "          const element = document.querySelector('#df-e2c96996-7057-4b3f-ba59-d36e78af1cde');\n",
              "          const dataTable =\n",
              "            await google.colab.kernel.invokeFunction('convertToInteractive',\n",
              "                                                     [key], {});\n",
              "          if (!dataTable) return;\n",
              "\n",
              "          const docLinkHtml = 'Like what you see? Visit the ' +\n",
              "            '<a target=\"_blank\" href=https://colab.research.google.com/notebooks/data_table.ipynb>data table notebook</a>'\n",
              "            + ' to learn more about interactive tables.';\n",
              "          element.innerHTML = '';\n",
              "          dataTable['output_type'] = 'display_data';\n",
              "          await google.colab.output.renderOutput(dataTable, element);\n",
              "          const docLink = document.createElement('div');\n",
              "          docLink.innerHTML = docLinkHtml;\n",
              "          element.appendChild(docLink);\n",
              "        }\n",
              "      </script>\n",
              "    </div>\n",
              "  </div>\n",
              "  "
            ]
          },
          "metadata": {},
          "execution_count": 38
        }
      ]
    },
    {
      "cell_type": "markdown",
      "source": [
        "# **5.0 Term Frequency–Inverse Document Frequency (TF-IDF)**"
      ],
      "metadata": {
        "id": "gXeUe7le1VM3"
      }
    },
    {
      "cell_type": "markdown",
      "source": [
        "## **5.1 Libraries**"
      ],
      "metadata": {
        "id": "2a8MXjNX1dGM"
      }
    },
    {
      "cell_type": "code",
      "source": [
        "import pandas as pd"
      ],
      "metadata": {
        "id": "tPrqQ4ya1iKB"
      },
      "execution_count": 39,
      "outputs": []
    },
    {
      "cell_type": "code",
      "source": [
        "from sklearn.feature_extraction.text import TfidfVectorizer\n",
        "text = [\"I love writing code in Python. I love Python code\",\n",
        "        \"I hate writing code in Java. I hate Java code\"]\n",
        "df = pd.DataFrame({'review': ['review1', 'review2'], 'text':text})\n",
        "tfidf = TfidfVectorizer(stop_words='english', norm=None)\n",
        "tfidf_matrix = tfidf.fit_transform(df['text'])\n",
        "df_dtm = pd.DataFrame(tfidf_matrix.toarray(),\n",
        "                      index=df['review'].values,\n",
        "                      columns=tfidf.get_feature_names())\n",
        "df_dtm"
      ],
      "metadata": {
        "colab": {
          "base_uri": "https://localhost:8080/",
          "height": 168
        },
        "id": "iAVoXO4Z1kGt",
        "outputId": "dfc89679-9691-43c3-9a47-545dffda883f"
      },
      "execution_count": 41,
      "outputs": [
        {
          "output_type": "stream",
          "name": "stderr",
          "text": [
            "/usr/local/lib/python3.7/dist-packages/sklearn/utils/deprecation.py:87: FutureWarning: Function get_feature_names is deprecated; get_feature_names is deprecated in 1.0 and will be removed in 1.2. Please use get_feature_names_out instead.\n",
            "  warnings.warn(msg, category=FutureWarning)\n"
          ]
        },
        {
          "output_type": "execute_result",
          "data": {
            "text/plain": [
              "         code     hate     java     love   python  writing\n",
              "review1   2.0  0.00000  0.00000  2.81093  2.81093      1.0\n",
              "review2   2.0  2.81093  2.81093  0.00000  0.00000      1.0"
            ],
            "text/html": [
              "\n",
              "  <div id=\"df-d2fa7a58-b767-4782-9e00-00ee3b2ab406\">\n",
              "    <div class=\"colab-df-container\">\n",
              "      <div>\n",
              "<style scoped>\n",
              "    .dataframe tbody tr th:only-of-type {\n",
              "        vertical-align: middle;\n",
              "    }\n",
              "\n",
              "    .dataframe tbody tr th {\n",
              "        vertical-align: top;\n",
              "    }\n",
              "\n",
              "    .dataframe thead th {\n",
              "        text-align: right;\n",
              "    }\n",
              "</style>\n",
              "<table border=\"1\" class=\"dataframe\">\n",
              "  <thead>\n",
              "    <tr style=\"text-align: right;\">\n",
              "      <th></th>\n",
              "      <th>code</th>\n",
              "      <th>hate</th>\n",
              "      <th>java</th>\n",
              "      <th>love</th>\n",
              "      <th>python</th>\n",
              "      <th>writing</th>\n",
              "    </tr>\n",
              "  </thead>\n",
              "  <tbody>\n",
              "    <tr>\n",
              "      <th>review1</th>\n",
              "      <td>2.0</td>\n",
              "      <td>0.00000</td>\n",
              "      <td>0.00000</td>\n",
              "      <td>2.81093</td>\n",
              "      <td>2.81093</td>\n",
              "      <td>1.0</td>\n",
              "    </tr>\n",
              "    <tr>\n",
              "      <th>review2</th>\n",
              "      <td>2.0</td>\n",
              "      <td>2.81093</td>\n",
              "      <td>2.81093</td>\n",
              "      <td>0.00000</td>\n",
              "      <td>0.00000</td>\n",
              "      <td>1.0</td>\n",
              "    </tr>\n",
              "  </tbody>\n",
              "</table>\n",
              "</div>\n",
              "      <button class=\"colab-df-convert\" onclick=\"convertToInteractive('df-d2fa7a58-b767-4782-9e00-00ee3b2ab406')\"\n",
              "              title=\"Convert this dataframe to an interactive table.\"\n",
              "              style=\"display:none;\">\n",
              "        \n",
              "  <svg xmlns=\"http://www.w3.org/2000/svg\" height=\"24px\"viewBox=\"0 0 24 24\"\n",
              "       width=\"24px\">\n",
              "    <path d=\"M0 0h24v24H0V0z\" fill=\"none\"/>\n",
              "    <path d=\"M18.56 5.44l.94 2.06.94-2.06 2.06-.94-2.06-.94-.94-2.06-.94 2.06-2.06.94zm-11 1L8.5 8.5l.94-2.06 2.06-.94-2.06-.94L8.5 2.5l-.94 2.06-2.06.94zm10 10l.94 2.06.94-2.06 2.06-.94-2.06-.94-.94-2.06-.94 2.06-2.06.94z\"/><path d=\"M17.41 7.96l-1.37-1.37c-.4-.4-.92-.59-1.43-.59-.52 0-1.04.2-1.43.59L10.3 9.45l-7.72 7.72c-.78.78-.78 2.05 0 2.83L4 21.41c.39.39.9.59 1.41.59.51 0 1.02-.2 1.41-.59l7.78-7.78 2.81-2.81c.8-.78.8-2.07 0-2.86zM5.41 20L4 18.59l7.72-7.72 1.47 1.35L5.41 20z\"/>\n",
              "  </svg>\n",
              "      </button>\n",
              "      \n",
              "  <style>\n",
              "    .colab-df-container {\n",
              "      display:flex;\n",
              "      flex-wrap:wrap;\n",
              "      gap: 12px;\n",
              "    }\n",
              "\n",
              "    .colab-df-convert {\n",
              "      background-color: #E8F0FE;\n",
              "      border: none;\n",
              "      border-radius: 50%;\n",
              "      cursor: pointer;\n",
              "      display: none;\n",
              "      fill: #1967D2;\n",
              "      height: 32px;\n",
              "      padding: 0 0 0 0;\n",
              "      width: 32px;\n",
              "    }\n",
              "\n",
              "    .colab-df-convert:hover {\n",
              "      background-color: #E2EBFA;\n",
              "      box-shadow: 0px 1px 2px rgba(60, 64, 67, 0.3), 0px 1px 3px 1px rgba(60, 64, 67, 0.15);\n",
              "      fill: #174EA6;\n",
              "    }\n",
              "\n",
              "    [theme=dark] .colab-df-convert {\n",
              "      background-color: #3B4455;\n",
              "      fill: #D2E3FC;\n",
              "    }\n",
              "\n",
              "    [theme=dark] .colab-df-convert:hover {\n",
              "      background-color: #434B5C;\n",
              "      box-shadow: 0px 1px 3px 1px rgba(0, 0, 0, 0.15);\n",
              "      filter: drop-shadow(0px 1px 2px rgba(0, 0, 0, 0.3));\n",
              "      fill: #FFFFFF;\n",
              "    }\n",
              "  </style>\n",
              "\n",
              "      <script>\n",
              "        const buttonEl =\n",
              "          document.querySelector('#df-d2fa7a58-b767-4782-9e00-00ee3b2ab406 button.colab-df-convert');\n",
              "        buttonEl.style.display =\n",
              "          google.colab.kernel.accessAllowed ? 'block' : 'none';\n",
              "\n",
              "        async function convertToInteractive(key) {\n",
              "          const element = document.querySelector('#df-d2fa7a58-b767-4782-9e00-00ee3b2ab406');\n",
              "          const dataTable =\n",
              "            await google.colab.kernel.invokeFunction('convertToInteractive',\n",
              "                                                     [key], {});\n",
              "          if (!dataTable) return;\n",
              "\n",
              "          const docLinkHtml = 'Like what you see? Visit the ' +\n",
              "            '<a target=\"_blank\" href=https://colab.research.google.com/notebooks/data_table.ipynb>data table notebook</a>'\n",
              "            + ' to learn more about interactive tables.';\n",
              "          element.innerHTML = '';\n",
              "          dataTable['output_type'] = 'display_data';\n",
              "          await google.colab.output.renderOutput(dataTable, element);\n",
              "          const docLink = document.createElement('div');\n",
              "          docLink.innerHTML = docLinkHtml;\n",
              "          element.appendChild(docLink);\n",
              "        }\n",
              "      </script>\n",
              "    </div>\n",
              "  </div>\n",
              "  "
            ]
          },
          "metadata": {},
          "execution_count": 41
        }
      ]
    }
  ]
}