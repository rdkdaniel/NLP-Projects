{
  "nbformat": 4,
  "nbformat_minor": 0,
  "metadata": {
    "colab": {
      "provenance": [],
      "authorship_tag": "ABX9TyMKielh7K+YeiedYpa49nHx",
      "include_colab_link": true
    },
    "kernelspec": {
      "name": "python3",
      "display_name": "Python 3"
    },
    "language_info": {
      "name": "python"
    }
  },
  "cells": [
    {
      "cell_type": "markdown",
      "metadata": {
        "id": "view-in-github",
        "colab_type": "text"
      },
      "source": [
        "<a href=\"https://colab.research.google.com/github/rdkdaniel/NLP-Projects/blob/main/Leading_Language_Models.ipynb\" target=\"_parent\"><img src=\"https://colab.research.google.com/assets/colab-badge.svg\" alt=\"Open In Colab\"/></a>"
      ]
    },
    {
      "cell_type": "markdown",
      "source": [
        "**Introduction**\n",
        "\n",
        "In this notebook, I plan to review the leading language models of 2022 - going into 2023.\n",
        "\n",
        "In particular, I focus on 10 language models:\n",
        "\n",
        "*   BERT\n",
        "*   GPT (its variants, GPT2 and GPT3)\n",
        "*   RoBERTa\n",
        "*   ALBERT\n",
        "*   XLNet\n",
        "*   T5\n",
        "*   Electra\n",
        "*   DeBERTa\n",
        "*   PaLM\n",
        "\n"
      ],
      "metadata": {
        "id": "nZdTi0zfL8N_"
      }
    },
    {
      "cell_type": "code",
      "execution_count": null,
      "metadata": {
        "id": "1TwyqCFbL5AC"
      },
      "outputs": [],
      "source": [
        "#Interesting read: The paper that introduced these models & https://www.topbots.com/leading-nlp-language-models-2020/"
      ]
    },
    {
      "cell_type": "markdown",
      "source": [],
      "metadata": {
        "id": "iklOM4JaL8FP"
      }
    }
  ]
}